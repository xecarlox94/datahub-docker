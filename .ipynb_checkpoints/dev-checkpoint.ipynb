{
 "cells": [
  {
   "cell_type": "code",
   "execution_count": 1,
   "id": "808a1e4e-176e-4aa1-8ab0-70fb480f285c",
   "metadata": {},
   "outputs": [],
   "source": [
    "#!/usr/bin/python3\n",
    "\n",
    "import argparse\n",
    "from pathlib import Path\n",
    "from rosbags.highlevel import AnyReader\n",
    "import numpy as np\n",
    "import cv2\n",
    "import os\n",
    "\n",
    "import pandas as pd\n",
    "\n",
    "def _mkdir(d):\n",
    "    if not os.path.exists(d):\n",
    "       os.makedirs(d)\n",
    "\n",
    "\n",
    "base_container_folder = './'\n",
    "\n",
    "file_name = os.getenv(\"FILE\")\n",
    "\n",
    "file_name = \"data.bag\"\n",
    "file_name = \"test.bag\"\n",
    "\n",
    "file_path = os.path.join(base_container_folder, file_name)\n",
    "\n",
    "file_base_name = file_name.split('.')[0]\n"
   ]
  },
  {
   "cell_type": "code",
   "execution_count": 2,
   "id": "6d4e6189-444d-44a5-abff-4bfc02b8fa9f",
   "metadata": {},
   "outputs": [
    {
     "ename": "ValueError",
     "evalue": "setting an array element with a sequence. The requested array has an inhomogeneous shape after 3 dimensions. The detected shape was (1, 100, 3) + inhomogeneous part.",
     "output_type": "error",
     "traceback": [
      "\u001b[0;31m---------------------------------------------------------------------------\u001b[0m",
      "\u001b[0;31mValueError\u001b[0m                                Traceback (most recent call last)",
      "Cell \u001b[0;32mIn[2], line 41\u001b[0m\n\u001b[1;32m     37\u001b[0m deserialised_data \u001b[38;5;241m=\u001b[39m reader\u001b[38;5;241m.\u001b[39mdeserialize(rawdata, connection\u001b[38;5;241m.\u001b[39mmsgtype)\n\u001b[1;32m     40\u001b[0m \u001b[38;5;28;01mif\u001b[39;00m \u001b[38;5;28mlen\u001b[39m(intermediate_list) \u001b[38;5;241m>\u001b[39m\u001b[38;5;241m=\u001b[39m \u001b[38;5;241m100\u001b[39m:\n\u001b[0;32m---> 41\u001b[0m     data \u001b[38;5;241m=\u001b[39m np\u001b[38;5;241m.\u001b[39mappend(data, \u001b[43mnp\u001b[49m\u001b[38;5;241;43m.\u001b[39;49m\u001b[43marray\u001b[49m\u001b[43m(\u001b[49m\u001b[43m[\u001b[49m\u001b[43mintermediate_list\u001b[49m\u001b[43m]\u001b[49m\u001b[43m)\u001b[49m)\n\u001b[1;32m     42\u001b[0m     intermediate_list \u001b[38;5;241m=\u001b[39m []\n\u001b[1;32m     43\u001b[0m \u001b[38;5;28;01melse\u001b[39;00m:\n",
      "\u001b[0;31mValueError\u001b[0m: setting an array element with a sequence. The requested array has an inhomogeneous shape after 3 dimensions. The detected shape was (1, 100, 3) + inhomogeneous part."
     ]
    }
   ],
   "source": [
    "df=False\n",
    "\n",
    "i=0\n",
    "\n",
    "data = np.array([])\n",
    "\n",
    "with AnyReader([Path(file_name)]) as reader:\n",
    "\n",
    "    connections = reader.connections\n",
    "    \n",
    "    #print(\"\\n\\n\")\n",
    "    # print(connections[0].msgdef)\n",
    "    # print(\"\\n\\n\")\n",
    "    # print(connections[0])\n",
    "\n",
    "    # print(len(connections))\n",
    "    # topics = list(map(\n",
    "    #     lambda x: (x.topic,),\n",
    "    #     connections\n",
    "    # ))\n",
    "    # for t in topics:\n",
    "    #     print(t)\n",
    "\n",
    "    messages = reader.messages(connections=connections)\n",
    "\n",
    "\n",
    "    \n",
    "\n",
    "    intermediate_list = []\n",
    "    \n",
    "    for msg in messages:\n",
    "\n",
    "        i = i + 1\n",
    "        \n",
    "        connection, timestamp, rawdata = msg\n",
    "    \n",
    "        deserialised_data = reader.deserialize(rawdata, connection.msgtype)\n",
    "\n",
    "\n",
    "        if len(intermediate_list) >= 100:\n",
    "            data = np.append(data, np.array(intermediate_list))\n",
    "            intermediate_list = []\n",
    "        else:\n",
    "            intermediate_list.append((connection, timestamp, deserialised_data))\n",
    "\n",
    "        \n"
   ]
  },
  {
   "cell_type": "code",
   "execution_count": null,
   "id": "a8a72b1c-3aa5-4ed2-801e-ff31aaff90ac",
   "metadata": {},
   "outputs": [],
   "source": []
  },
  {
   "cell_type": "code",
   "execution_count": null,
   "id": "6d337b3e-b19f-47d1-9780-e03652fcf86b",
   "metadata": {},
   "outputs": [],
   "source": [
    "\n",
    "\n",
    "#df\n",
    "\n",
    "df = pd.DataFrame.from_records(data, columns =['connection', 'timestamp', 'data'])\n",
    "\n",
    "\n",
    "df.index\n",
    "\n",
    "\n"
   ]
  },
  {
   "cell_type": "code",
   "execution_count": null,
   "id": "491a9679-dd0e-4419-ae5e-562f8b1c908c",
   "metadata": {},
   "outputs": [],
   "source": [
    "df['connection']"
   ]
  },
  {
   "cell_type": "code",
   "execution_count": null,
   "id": "e899b973-8fba-43d0-ab6d-963f249a304b",
   "metadata": {},
   "outputs": [],
   "source": [
    "\n",
    "\n",
    "#df['connection_id'] = \n",
    "df['connection'].apply(lambda x:x[0]).unique()"
   ]
  },
  {
   "cell_type": "code",
   "execution_count": null,
   "id": "0c451e8b-958a-426d-8152-817298936794",
   "metadata": {},
   "outputs": [],
   "source": [
    "conn = df['connection'][0]"
   ]
  },
  {
   "cell_type": "code",
   "execution_count": null,
   "id": "61dcb434-b9cb-42d3-b841-96a7ff020e3a",
   "metadata": {},
   "outputs": [],
   "source": [
    "df['connection'][0]"
   ]
  },
  {
   "cell_type": "code",
   "execution_count": null,
   "id": "38027237-8cbd-4519-840b-7c00927af547",
   "metadata": {},
   "outputs": [],
   "source": [
    "conn.topic"
   ]
  },
  {
   "cell_type": "code",
   "execution_count": null,
   "id": "a76d4238-de2a-4c0c-b3f7-2ae1d0c22d10",
   "metadata": {},
   "outputs": [],
   "source": [
    "conn.id"
   ]
  },
  {
   "cell_type": "code",
   "execution_count": null,
   "id": "cc489eb2-3ef2-4312-8220-524bf4360324",
   "metadata": {},
   "outputs": [],
   "source": [
    "conn.msgtype"
   ]
  },
  {
   "cell_type": "code",
   "execution_count": null,
   "id": "4c381cf2-d205-4d20-b629-9b53058585ee",
   "metadata": {},
   "outputs": [],
   "source": [
    "print(conn.msgdef)"
   ]
  },
  {
   "cell_type": "code",
   "execution_count": null,
   "id": "8051f0b1-e545-41be-ab51-61a5c6421292",
   "metadata": {},
   "outputs": [],
   "source": [
    "df['data'][0]"
   ]
  },
  {
   "cell_type": "code",
   "execution_count": null,
   "id": "826cbfbd-d9fc-456a-b80b-9941e5d12190",
   "metadata": {},
   "outputs": [],
   "source": [
    "\n",
    "# write_image\n",
    "\n",
    "\n",
    "\n",
    "#         image = deserialised_data.data\n",
    "    \n",
    "#         shape = deserialised_data.height, deserialised_data.width, 3\n",
    "    \n",
    "#         array = np.reshape(image, shape)\n",
    "    \n",
    "#         img_file_path = os.path.join(\n",
    "#             base_container_folder,\n",
    "#             (\"imgs-\"+file_base_name),\n",
    "#             f'{timestamp}.jpg'\n",
    "#         )\n",
    "    \n",
    "#         folder_name = os.path.join(*img_file_path.split('/')[1:-1])\n",
    "    \n",
    "#         _mkdir(folder_name)\n",
    "    \n",
    "#         cv2.imwrite(img_file_path, array)"
   ]
  }
 ],
 "metadata": {
  "kernelspec": {
   "display_name": "Python 3 (ipykernel)",
   "language": "python",
   "name": "python3"
  },
  "language_info": {
   "codemirror_mode": {
    "name": "ipython",
    "version": 3
   },
   "file_extension": ".py",
   "mimetype": "text/x-python",
   "name": "python",
   "nbconvert_exporter": "python",
   "pygments_lexer": "ipython3",
   "version": "3.10.6"
  }
 },
 "nbformat": 4,
 "nbformat_minor": 5
}
