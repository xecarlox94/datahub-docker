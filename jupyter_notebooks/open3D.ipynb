{
 "cells": [
  {
   "cell_type": "code",
   "execution_count": 7,
   "metadata": {},
   "outputs": [
    {
     "name": "stdout",
     "output_type": "stream",
     "text": [
      "Collecting pip\n",
      "\u001b[?25l  Downloading https://files.pythonhosted.org/packages/50/c2/e06851e8cc28dcad7c155f4753da8833ac06a5c704c109313b8d5a62968a/pip-23.2.1-py3-none-any.whl (2.1MB)\n",
      "\u001b[K     |████████████████████████████████| 2.1MB 3.6MB/s eta 0:00:01\n",
      "\u001b[?25hInstalling collected packages: pip\n",
      "Successfully installed pip-23.2.1\n",
      "Note: you may need to restart the kernel to use updated packages.\n"
     ]
    }
   ],
   "source": [
    "pip install --upgrade pip"
   ]
  },
  {
   "cell_type": "code",
   "execution_count": 1,
   "metadata": {},
   "outputs": [
    {
     "name": "stdout",
     "output_type": "stream",
     "text": [
      "Requirement already satisfied: Pillow in /home/coena98/anaconda3/envs/snakes/lib/python3.9/site-packages (10.0.0)\n",
      "Note: you may need to restart the kernel to use updated packages.\n"
     ]
    }
   ],
   "source": [
    "pip install Pillow"
   ]
  },
  {
   "cell_type": "code",
   "execution_count": 2,
   "metadata": {},
   "outputs": [
    {
     "name": "stdout",
     "output_type": "stream",
     "text": [
      "Requirement already satisfied: open3d in /home/coena98/anaconda3/envs/snakes/lib/python3.9/site-packages (0.17.0)\n",
      "Requirement already satisfied: numpy>=1.18.0 in /home/coena98/anaconda3/envs/snakes/lib/python3.9/site-packages (from open3d) (1.25.1)\n",
      "Requirement already satisfied: dash>=2.6.0 in /home/coena98/anaconda3/envs/snakes/lib/python3.9/site-packages (from open3d) (2.11.1)\n",
      "Requirement already satisfied: werkzeug>=2.2.3 in /home/coena98/anaconda3/envs/snakes/lib/python3.9/site-packages (from open3d) (2.2.3)\n",
      "Requirement already satisfied: nbformat==5.7.0 in /home/coena98/anaconda3/envs/snakes/lib/python3.9/site-packages (from open3d) (5.7.0)\n",
      "Requirement already satisfied: configargparse in /home/coena98/anaconda3/envs/snakes/lib/python3.9/site-packages (from open3d) (1.7)\n",
      "Requirement already satisfied: ipywidgets>=8.0.4 in /home/coena98/anaconda3/envs/snakes/lib/python3.9/site-packages (from open3d) (8.0.4)\n",
      "Requirement already satisfied: addict in /home/coena98/anaconda3/envs/snakes/lib/python3.9/site-packages (from open3d) (2.4.0)\n",
      "Requirement already satisfied: pillow>=9.3.0 in /home/coena98/anaconda3/envs/snakes/lib/python3.9/site-packages (from open3d) (10.0.0)\n",
      "Requirement already satisfied: matplotlib>=3 in /home/coena98/anaconda3/envs/snakes/lib/python3.9/site-packages (from open3d) (3.7.2)\n",
      "Requirement already satisfied: pandas>=1.0 in /home/coena98/anaconda3/envs/snakes/lib/python3.9/site-packages (from open3d) (2.0.3)\n",
      "Requirement already satisfied: pyyaml>=5.4.1 in /home/coena98/anaconda3/envs/snakes/lib/python3.9/site-packages (from open3d) (6.0)\n",
      "Requirement already satisfied: scikit-learn>=0.21 in /home/coena98/anaconda3/envs/snakes/lib/python3.9/site-packages (from open3d) (1.3.0)\n",
      "Requirement already satisfied: tqdm in /home/coena98/anaconda3/envs/snakes/lib/python3.9/site-packages (from open3d) (4.65.0)\n",
      "Requirement already satisfied: pyquaternion in /home/coena98/anaconda3/envs/snakes/lib/python3.9/site-packages (from open3d) (0.9.9)\n",
      "Requirement already satisfied: fastjsonschema in /home/coena98/anaconda3/envs/snakes/lib/python3.9/site-packages (from nbformat==5.7.0->open3d) (2.16.2)\n",
      "Requirement already satisfied: jsonschema>=2.6 in /home/coena98/anaconda3/envs/snakes/lib/python3.9/site-packages (from nbformat==5.7.0->open3d) (4.17.3)\n",
      "Requirement already satisfied: jupyter-core in /home/coena98/anaconda3/envs/snakes/lib/python3.9/site-packages (from nbformat==5.7.0->open3d) (5.3.0)\n",
      "Requirement already satisfied: traitlets>=5.1 in /home/coena98/anaconda3/envs/snakes/lib/python3.9/site-packages (from nbformat==5.7.0->open3d) (5.7.1)\n",
      "Requirement already satisfied: Flask<2.3.0,>=1.0.4 in /home/coena98/anaconda3/envs/snakes/lib/python3.9/site-packages (from dash>=2.6.0->open3d) (2.2.5)\n",
      "Requirement already satisfied: plotly>=5.0.0 in /home/coena98/anaconda3/envs/snakes/lib/python3.9/site-packages (from dash>=2.6.0->open3d) (5.15.0)\n",
      "Requirement already satisfied: dash-html-components==2.0.0 in /home/coena98/anaconda3/envs/snakes/lib/python3.9/site-packages (from dash>=2.6.0->open3d) (2.0.0)\n",
      "Requirement already satisfied: dash-core-components==2.0.0 in /home/coena98/anaconda3/envs/snakes/lib/python3.9/site-packages (from dash>=2.6.0->open3d) (2.0.0)\n",
      "Requirement already satisfied: dash-table==5.0.0 in /home/coena98/anaconda3/envs/snakes/lib/python3.9/site-packages (from dash>=2.6.0->open3d) (5.0.0)\n",
      "Requirement already satisfied: typing-extensions>=4.1.1 in /home/coena98/anaconda3/envs/snakes/lib/python3.9/site-packages (from dash>=2.6.0->open3d) (4.7.1)\n",
      "Requirement already satisfied: requests in /home/coena98/anaconda3/envs/snakes/lib/python3.9/site-packages (from dash>=2.6.0->open3d) (2.29.0)\n",
      "Requirement already satisfied: retrying in /home/coena98/anaconda3/envs/snakes/lib/python3.9/site-packages (from dash>=2.6.0->open3d) (1.3.4)\n",
      "Requirement already satisfied: ansi2html in /home/coena98/anaconda3/envs/snakes/lib/python3.9/site-packages (from dash>=2.6.0->open3d) (1.8.0)\n",
      "Requirement already satisfied: nest-asyncio in /home/coena98/anaconda3/envs/snakes/lib/python3.9/site-packages (from dash>=2.6.0->open3d) (1.5.6)\n",
      "Requirement already satisfied: ipykernel>=4.5.1 in /home/coena98/anaconda3/envs/snakes/lib/python3.9/site-packages (from ipywidgets>=8.0.4->open3d) (6.19.2)\n",
      "Requirement already satisfied: ipython>=6.1.0 in /home/coena98/anaconda3/envs/snakes/lib/python3.9/site-packages (from ipywidgets>=8.0.4->open3d) (8.12.0)\n",
      "Requirement already satisfied: widgetsnbextension~=4.0 in /home/coena98/anaconda3/envs/snakes/lib/python3.9/site-packages (from ipywidgets>=8.0.4->open3d) (4.0.5)\n",
      "Requirement already satisfied: jupyterlab-widgets~=3.0 in /home/coena98/anaconda3/envs/snakes/lib/python3.9/site-packages (from ipywidgets>=8.0.4->open3d) (3.0.5)\n",
      "Requirement already satisfied: contourpy>=1.0.1 in /home/coena98/anaconda3/envs/snakes/lib/python3.9/site-packages (from matplotlib>=3->open3d) (1.1.0)\n",
      "Requirement already satisfied: cycler>=0.10 in /home/coena98/anaconda3/envs/snakes/lib/python3.9/site-packages (from matplotlib>=3->open3d) (0.11.0)\n",
      "Requirement already satisfied: fonttools>=4.22.0 in /home/coena98/anaconda3/envs/snakes/lib/python3.9/site-packages (from matplotlib>=3->open3d) (4.41.1)\n",
      "Requirement already satisfied: kiwisolver>=1.0.1 in /home/coena98/anaconda3/envs/snakes/lib/python3.9/site-packages (from matplotlib>=3->open3d) (1.4.4)\n",
      "Requirement already satisfied: packaging>=20.0 in /home/coena98/anaconda3/envs/snakes/lib/python3.9/site-packages (from matplotlib>=3->open3d) (23.0)\n",
      "Requirement already satisfied: pyparsing<3.1,>=2.3.1 in /home/coena98/anaconda3/envs/snakes/lib/python3.9/site-packages (from matplotlib>=3->open3d) (3.0.9)\n",
      "Requirement already satisfied: python-dateutil>=2.7 in /home/coena98/anaconda3/envs/snakes/lib/python3.9/site-packages (from matplotlib>=3->open3d) (2.8.2)\n",
      "Requirement already satisfied: importlib-resources>=3.2.0 in /home/coena98/anaconda3/envs/snakes/lib/python3.9/site-packages (from matplotlib>=3->open3d) (6.0.0)\n",
      "Requirement already satisfied: pytz>=2020.1 in /home/coena98/anaconda3/envs/snakes/lib/python3.9/site-packages (from pandas>=1.0->open3d) (2022.7)\n",
      "Requirement already satisfied: tzdata>=2022.1 in /home/coena98/anaconda3/envs/snakes/lib/python3.9/site-packages (from pandas>=1.0->open3d) (2023.3)\n",
      "Requirement already satisfied: scipy>=1.5.0 in /home/coena98/anaconda3/envs/snakes/lib/python3.9/site-packages (from scikit-learn>=0.21->open3d) (1.11.1)\n",
      "Requirement already satisfied: joblib>=1.1.1 in /home/coena98/anaconda3/envs/snakes/lib/python3.9/site-packages (from scikit-learn>=0.21->open3d) (1.3.1)\n",
      "Requirement already satisfied: threadpoolctl>=2.0.0 in /home/coena98/anaconda3/envs/snakes/lib/python3.9/site-packages (from scikit-learn>=0.21->open3d) (3.2.0)\n",
      "Requirement already satisfied: MarkupSafe>=2.1.1 in /home/coena98/anaconda3/envs/snakes/lib/python3.9/site-packages (from werkzeug>=2.2.3->open3d) (2.1.1)\n",
      "Requirement already satisfied: Jinja2>=3.0 in /home/coena98/anaconda3/envs/snakes/lib/python3.9/site-packages (from Flask<2.3.0,>=1.0.4->dash>=2.6.0->open3d) (3.1.2)\n",
      "Requirement already satisfied: itsdangerous>=2.0 in /home/coena98/anaconda3/envs/snakes/lib/python3.9/site-packages (from Flask<2.3.0,>=1.0.4->dash>=2.6.0->open3d) (2.1.2)\n",
      "Requirement already satisfied: click>=8.0 in /home/coena98/anaconda3/envs/snakes/lib/python3.9/site-packages (from Flask<2.3.0,>=1.0.4->dash>=2.6.0->open3d) (8.1.6)\n",
      "Requirement already satisfied: importlib-metadata>=3.6.0 in /home/coena98/anaconda3/envs/snakes/lib/python3.9/site-packages (from Flask<2.3.0,>=1.0.4->dash>=2.6.0->open3d) (6.0.0)\n",
      "Requirement already satisfied: zipp>=3.1.0 in /home/coena98/anaconda3/envs/snakes/lib/python3.9/site-packages (from importlib-resources>=3.2.0->matplotlib>=3->open3d) (3.11.0)\n",
      "Requirement already satisfied: comm>=0.1.1 in /home/coena98/anaconda3/envs/snakes/lib/python3.9/site-packages (from ipykernel>=4.5.1->ipywidgets>=8.0.4->open3d) (0.1.2)\n",
      "Requirement already satisfied: debugpy>=1.0 in /home/coena98/anaconda3/envs/snakes/lib/python3.9/site-packages (from ipykernel>=4.5.1->ipywidgets>=8.0.4->open3d) (1.5.1)\n",
      "Requirement already satisfied: jupyter-client>=6.1.12 in /home/coena98/anaconda3/envs/snakes/lib/python3.9/site-packages (from ipykernel>=4.5.1->ipywidgets>=8.0.4->open3d) (7.4.9)\n",
      "Requirement already satisfied: matplotlib-inline>=0.1 in /home/coena98/anaconda3/envs/snakes/lib/python3.9/site-packages (from ipykernel>=4.5.1->ipywidgets>=8.0.4->open3d) (0.1.6)\n",
      "Requirement already satisfied: psutil in /home/coena98/anaconda3/envs/snakes/lib/python3.9/site-packages (from ipykernel>=4.5.1->ipywidgets>=8.0.4->open3d) (5.9.0)\n",
      "Requirement already satisfied: pyzmq>=17 in /home/coena98/anaconda3/envs/snakes/lib/python3.9/site-packages (from ipykernel>=4.5.1->ipywidgets>=8.0.4->open3d) (23.2.0)\n",
      "Requirement already satisfied: tornado>=6.1 in /home/coena98/anaconda3/envs/snakes/lib/python3.9/site-packages (from ipykernel>=4.5.1->ipywidgets>=8.0.4->open3d) (6.2)\n",
      "Requirement already satisfied: backcall in /home/coena98/anaconda3/envs/snakes/lib/python3.9/site-packages (from ipython>=6.1.0->ipywidgets>=8.0.4->open3d) (0.2.0)\n",
      "Requirement already satisfied: decorator in /home/coena98/anaconda3/envs/snakes/lib/python3.9/site-packages (from ipython>=6.1.0->ipywidgets>=8.0.4->open3d) (5.1.1)\n",
      "Requirement already satisfied: jedi>=0.16 in /home/coena98/anaconda3/envs/snakes/lib/python3.9/site-packages (from ipython>=6.1.0->ipywidgets>=8.0.4->open3d) (0.18.1)\n",
      "Requirement already satisfied: pickleshare in /home/coena98/anaconda3/envs/snakes/lib/python3.9/site-packages (from ipython>=6.1.0->ipywidgets>=8.0.4->open3d) (0.7.5)\n",
      "Requirement already satisfied: prompt-toolkit!=3.0.37,<3.1.0,>=3.0.30 in /home/coena98/anaconda3/envs/snakes/lib/python3.9/site-packages (from ipython>=6.1.0->ipywidgets>=8.0.4->open3d) (3.0.36)\n",
      "Requirement already satisfied: pygments>=2.4.0 in /home/coena98/anaconda3/envs/snakes/lib/python3.9/site-packages (from ipython>=6.1.0->ipywidgets>=8.0.4->open3d) (2.15.1)\n",
      "Requirement already satisfied: stack-data in /home/coena98/anaconda3/envs/snakes/lib/python3.9/site-packages (from ipython>=6.1.0->ipywidgets>=8.0.4->open3d) (0.2.0)\n",
      "Requirement already satisfied: pexpect>4.3 in /home/coena98/anaconda3/envs/snakes/lib/python3.9/site-packages (from ipython>=6.1.0->ipywidgets>=8.0.4->open3d) (4.8.0)\n"
     ]
    },
    {
     "name": "stdout",
     "output_type": "stream",
     "text": [
      "Requirement already satisfied: attrs>=17.4.0 in /home/coena98/anaconda3/envs/snakes/lib/python3.9/site-packages (from jsonschema>=2.6->nbformat==5.7.0->open3d) (22.1.0)\n",
      "Requirement already satisfied: pyrsistent!=0.17.0,!=0.17.1,!=0.17.2,>=0.14.0 in /home/coena98/anaconda3/envs/snakes/lib/python3.9/site-packages (from jsonschema>=2.6->nbformat==5.7.0->open3d) (0.18.0)\n",
      "Requirement already satisfied: tenacity>=6.2.0 in /home/coena98/anaconda3/envs/snakes/lib/python3.9/site-packages (from plotly>=5.0.0->dash>=2.6.0->open3d) (8.2.2)\n",
      "Requirement already satisfied: six>=1.5 in /home/coena98/anaconda3/envs/snakes/lib/python3.9/site-packages (from python-dateutil>=2.7->matplotlib>=3->open3d) (1.16.0)\n",
      "Requirement already satisfied: platformdirs>=2.5 in /home/coena98/anaconda3/envs/snakes/lib/python3.9/site-packages (from jupyter-core->nbformat==5.7.0->open3d) (2.5.2)\n",
      "Requirement already satisfied: charset-normalizer<4,>=2 in /home/coena98/anaconda3/envs/snakes/lib/python3.9/site-packages (from requests->dash>=2.6.0->open3d) (2.0.4)\n",
      "Requirement already satisfied: idna<4,>=2.5 in /home/coena98/anaconda3/envs/snakes/lib/python3.9/site-packages (from requests->dash>=2.6.0->open3d) (3.4)\n",
      "Requirement already satisfied: urllib3<1.27,>=1.21.1 in /home/coena98/anaconda3/envs/snakes/lib/python3.9/site-packages (from requests->dash>=2.6.0->open3d) (1.26.16)\n",
      "Requirement already satisfied: certifi>=2017.4.17 in /home/coena98/anaconda3/envs/snakes/lib/python3.9/site-packages (from requests->dash>=2.6.0->open3d) (2023.7.22)\n",
      "Requirement already satisfied: parso<0.9.0,>=0.8.0 in /home/coena98/anaconda3/envs/snakes/lib/python3.9/site-packages (from jedi>=0.16->ipython>=6.1.0->ipywidgets>=8.0.4->open3d) (0.8.3)\n",
      "Requirement already satisfied: entrypoints in /home/coena98/anaconda3/envs/snakes/lib/python3.9/site-packages (from jupyter-client>=6.1.12->ipykernel>=4.5.1->ipywidgets>=8.0.4->open3d) (0.4)\n",
      "Requirement already satisfied: ptyprocess>=0.5 in /home/coena98/anaconda3/envs/snakes/lib/python3.9/site-packages (from pexpect>4.3->ipython>=6.1.0->ipywidgets>=8.0.4->open3d) (0.7.0)\n",
      "Requirement already satisfied: wcwidth in /home/coena98/anaconda3/envs/snakes/lib/python3.9/site-packages (from prompt-toolkit!=3.0.37,<3.1.0,>=3.0.30->ipython>=6.1.0->ipywidgets>=8.0.4->open3d) (0.2.5)\n",
      "Requirement already satisfied: executing in /home/coena98/anaconda3/envs/snakes/lib/python3.9/site-packages (from stack-data->ipython>=6.1.0->ipywidgets>=8.0.4->open3d) (0.8.3)\n",
      "Requirement already satisfied: asttokens in /home/coena98/anaconda3/envs/snakes/lib/python3.9/site-packages (from stack-data->ipython>=6.1.0->ipywidgets>=8.0.4->open3d) (2.0.5)\n",
      "Requirement already satisfied: pure-eval in /home/coena98/anaconda3/envs/snakes/lib/python3.9/site-packages (from stack-data->ipython>=6.1.0->ipywidgets>=8.0.4->open3d) (0.2.2)\n",
      "Note: you may need to restart the kernel to use updated packages.\n"
     ]
    }
   ],
   "source": [
    "pip install open3d"
   ]
  },
  {
   "cell_type": "code",
   "execution_count": 3,
   "metadata": {},
   "outputs": [
    {
     "name": "stdout",
     "output_type": "stream",
     "text": [
      "Jupyter environment detected. Enabling Open3D WebVisualizer.\n",
      "[Open3D INFO] WebRTC GUI backend enabled.\n",
      "[Open3D INFO] WebRTCWindowSystem: HTTP handshake server disabled.\n"
     ]
    }
   ],
   "source": [
    "import open3d as o3d"
   ]
  },
  {
   "cell_type": "code",
   "execution_count": null,
   "metadata": {},
   "outputs": [],
   "source": [
    "print(\"Load a ply point cloud, print it, and render it\")\n",
    "sample_ply_data = o3d.data.PLYPointCloud()\n",
    "pcd = o3d.io.read_point_cloud(\"./OpenSfM/data/olter5/undistorted/depthmaps/merged.ply\", format='ply')"
   ]
  },
  {
   "cell_type": "code",
   "execution_count": null,
   "metadata": {},
   "outputs": [
    {
     "name": "stdout",
     "output_type": "stream",
     "text": [
      "[sudo] password for coena98: "
     ]
    }
   ],
   "source": [
    "!sudo apt update && apt install -y libsm6 libxext6"
   ]
  },
  {
   "cell_type": "code",
   "execution_count": null,
   "metadata": {},
   "outputs": [],
   "source": [
    "o3d.visualization.draw_geometries([pcd],\n",
    "                                  zoom=0.3412,\n",
    "                                  front=[0.4257, -0.2125, -0.8795],\n",
    "                                  lookat=[2.6172, 2.0475, 1.532],\n",
    "                                  up=[-0.0694, -0.9768, 0.2024])\n"
   ]
  },
  {
   "cell_type": "code",
   "execution_count": null,
   "metadata": {},
   "outputs": [],
   "source": [
    "# print(\"Downsample the point cloud with a voxel of 0.02\")\n",
    "# downpcd = pcd.voxel_down_sample(voxel_size=0.03)\n",
    "# o3d.visualization.draw_geometries([downpcd],\n",
    "#                                   zoom=0.3412,\n",
    "#                                   front=[0.4257, -0.2125, -0.8795],\n",
    "#                                   lookat=[2.6172, 2.0475, 1.532],\n",
    "#                                   up=[-0.0694, -0.9768, 0.2024])"
   ]
  },
  {
   "cell_type": "code",
   "execution_count": null,
   "metadata": {},
   "outputs": [],
   "source": [
    "# print(\"Every 5th points are selected\")\n",
    "# uni_down_pcd = pcd.uniform_down_sample(every_k_points=50)\n",
    "# o3d.visualization.draw_geometries([uni_down_pcd],\n",
    "#                                   zoom=0.3412,\n",
    "#                                   front=[0.4257, -0.2125, -0.8795],\n",
    "#                                   lookat=[2.6172, 2.0475, 1.532],\n",
    "#                                   up=[-0.0694, -0.9768, 0.2024])"
   ]
  },
  {
   "cell_type": "code",
   "execution_count": null,
   "metadata": {},
   "outputs": [],
   "source": [
    "# print(\"Recompute the normal of the downsampled point cloud\")\n",
    "# pcd.estimate_normals(\n",
    "#     search_param=o3d.geometry.KDTreeSearchParamHybrid(radius=0.1, max_nn=30))\n",
    "# o3d.visualization.draw_geometries([pcd],\n",
    "#                                   zoom=0.3412,\n",
    "#                                   front=[0.4257, -0.2125, -0.8795],\n",
    "#                                   lookat=[2.6172, 2.0475, 1.532],\n",
    "#                                   up=[-0.0694, -0.9768, 0.2024],\n",
    "#                                   point_show_normal=True)"
   ]
  },
  {
   "cell_type": "code",
   "execution_count": null,
   "metadata": {},
   "outputs": [],
   "source": [
    "# print(\"Load a polygon volume and use it to crop the original point cloud\")\n",
    "# demo_crop_data = o3d.data.DemoCropPointCloud()\n",
    "# vol = o3d.visualization.read_selection_polygon_volume(demo_crop_data.cropped_json_path)\n",
    "# chair = vol.crop_point_cloud(pcd)\n",
    "# o3d.visualization.draw_geometries([chair],\n",
    "#                                   zoom=0.7,\n",
    "#                                   front=[0.5439, -0.2333, -0.8060],\n",
    "#                                   lookat=[2.4615, 2.1331, 1.338],\n",
    "#                                   up=[-0.1781, -0.9708, 0.1608])"
   ]
  },
  {
   "cell_type": "code",
   "execution_count": null,
   "metadata": {},
   "outputs": [],
   "source": [
    "def display_inlier_outlier(cloud, ind):\n",
    "    inlier_cloud = cloud.select_by_index(ind)\n",
    "    outlier_cloud = cloud.select_by_index(ind, invert=True)\n",
    "\n",
    "    print(\"Showing outliers (red) and inliers (gray): \")\n",
    "    outlier_cloud.paint_uniform_color([1, 0, 0])\n",
    "    inlier_cloud.paint_uniform_color([0.8, 0.8, 0.8])\n",
    "    o3d.visualization.draw_geometries([inlier_cloud, outlier_cloud],\n",
    "                                      zoom=0.3412,\n",
    "                                      front=[0.4257, -0.2125, -0.8795],\n",
    "                                      lookat=[2.6172, 2.0475, 1.532],\n",
    "                                      up=[-0.0694, -0.9768, 0.2024])"
   ]
  },
  {
   "cell_type": "code",
   "execution_count": null,
   "metadata": {},
   "outputs": [],
   "source": []
  },
  {
   "cell_type": "code",
   "execution_count": null,
   "metadata": {},
   "outputs": [],
   "source": []
  }
 ],
 "metadata": {
  "kernelspec": {
   "display_name": "Python 3 (ipykernel)",
   "language": "python",
   "name": "python3"
  },
  "language_info": {
   "codemirror_mode": {
    "name": "ipython",
    "version": 3
   },
   "file_extension": ".py",
   "mimetype": "text/x-python",
   "name": "python",
   "nbconvert_exporter": "python",
   "pygments_lexer": "ipython3",
   "version": "3.9.17"
  }
 },
 "nbformat": 4,
 "nbformat_minor": 2
}
